{
 "cells": [
  {
   "cell_type": "markdown",
   "metadata": {},
   "source": [
    "# <center>EE655000 Machine Learning HW1</center> #\n",
    "####  EE 107061212 劉亦傑\n",
    "***"
   ]
  },
  {
   "cell_type": "markdown",
   "metadata": {},
   "source": [
    "### Load the wine dataset\n",
    "* 首先，我先將import所需要的套件，並利用pandas將wine.csv讀進來，再將其輸出初步了解dataset狀況。\n",
    "* 接著，我利用Python的Counter套件，去檢查wine dataset的label是否為1, 2, 3，以及這三個labels的分布情形。"
   ]
  },
  {
   "cell_type": "code",
   "execution_count": 91,
   "metadata": {},
   "outputs": [
    {
     "name": "stdout",
     "output_type": "stream",
     "text": [
      "Understand the wine dataset first.\n"
     ]
    },
    {
     "data": {
      "text/html": [
       "<div>\n",
       "<style scoped>\n",
       "    .dataframe tbody tr th:only-of-type {\n",
       "        vertical-align: middle;\n",
       "    }\n",
       "\n",
       "    .dataframe tbody tr th {\n",
       "        vertical-align: top;\n",
       "    }\n",
       "\n",
       "    .dataframe thead th {\n",
       "        text-align: right;\n",
       "    }\n",
       "</style>\n",
       "<table border=\"1\" class=\"dataframe\">\n",
       "  <thead>\n",
       "    <tr style=\"text-align: right;\">\n",
       "      <th></th>\n",
       "      <th>0</th>\n",
       "      <th>1</th>\n",
       "      <th>2</th>\n",
       "      <th>3</th>\n",
       "      <th>4</th>\n",
       "      <th>5</th>\n",
       "      <th>6</th>\n",
       "      <th>7</th>\n",
       "      <th>8</th>\n",
       "      <th>9</th>\n",
       "      <th>10</th>\n",
       "      <th>11</th>\n",
       "      <th>12</th>\n",
       "      <th>13</th>\n",
       "    </tr>\n",
       "  </thead>\n",
       "  <tbody>\n",
       "    <tr>\n",
       "      <th>0</th>\n",
       "      <td>1</td>\n",
       "      <td>14.23</td>\n",
       "      <td>1.71</td>\n",
       "      <td>2.43</td>\n",
       "      <td>15.6</td>\n",
       "      <td>127</td>\n",
       "      <td>2.80</td>\n",
       "      <td>3.06</td>\n",
       "      <td>0.28</td>\n",
       "      <td>2.29</td>\n",
       "      <td>5.64</td>\n",
       "      <td>1.04</td>\n",
       "      <td>3.92</td>\n",
       "      <td>1065</td>\n",
       "    </tr>\n",
       "    <tr>\n",
       "      <th>1</th>\n",
       "      <td>1</td>\n",
       "      <td>13.20</td>\n",
       "      <td>1.78</td>\n",
       "      <td>2.14</td>\n",
       "      <td>11.2</td>\n",
       "      <td>100</td>\n",
       "      <td>2.65</td>\n",
       "      <td>2.76</td>\n",
       "      <td>0.26</td>\n",
       "      <td>1.28</td>\n",
       "      <td>4.38</td>\n",
       "      <td>1.05</td>\n",
       "      <td>3.40</td>\n",
       "      <td>1050</td>\n",
       "    </tr>\n",
       "    <tr>\n",
       "      <th>2</th>\n",
       "      <td>1</td>\n",
       "      <td>13.16</td>\n",
       "      <td>2.36</td>\n",
       "      <td>2.67</td>\n",
       "      <td>18.6</td>\n",
       "      <td>101</td>\n",
       "      <td>2.80</td>\n",
       "      <td>3.24</td>\n",
       "      <td>0.30</td>\n",
       "      <td>2.81</td>\n",
       "      <td>5.68</td>\n",
       "      <td>1.03</td>\n",
       "      <td>3.17</td>\n",
       "      <td>1185</td>\n",
       "    </tr>\n",
       "    <tr>\n",
       "      <th>3</th>\n",
       "      <td>1</td>\n",
       "      <td>14.37</td>\n",
       "      <td>1.95</td>\n",
       "      <td>2.50</td>\n",
       "      <td>16.8</td>\n",
       "      <td>113</td>\n",
       "      <td>3.85</td>\n",
       "      <td>3.49</td>\n",
       "      <td>0.24</td>\n",
       "      <td>2.18</td>\n",
       "      <td>7.80</td>\n",
       "      <td>0.86</td>\n",
       "      <td>3.45</td>\n",
       "      <td>1480</td>\n",
       "    </tr>\n",
       "    <tr>\n",
       "      <th>4</th>\n",
       "      <td>1</td>\n",
       "      <td>13.24</td>\n",
       "      <td>2.59</td>\n",
       "      <td>2.87</td>\n",
       "      <td>21.0</td>\n",
       "      <td>118</td>\n",
       "      <td>2.80</td>\n",
       "      <td>2.69</td>\n",
       "      <td>0.39</td>\n",
       "      <td>1.82</td>\n",
       "      <td>4.32</td>\n",
       "      <td>1.04</td>\n",
       "      <td>2.93</td>\n",
       "      <td>735</td>\n",
       "    </tr>\n",
       "    <tr>\n",
       "      <th>...</th>\n",
       "      <td>...</td>\n",
       "      <td>...</td>\n",
       "      <td>...</td>\n",
       "      <td>...</td>\n",
       "      <td>...</td>\n",
       "      <td>...</td>\n",
       "      <td>...</td>\n",
       "      <td>...</td>\n",
       "      <td>...</td>\n",
       "      <td>...</td>\n",
       "      <td>...</td>\n",
       "      <td>...</td>\n",
       "      <td>...</td>\n",
       "      <td>...</td>\n",
       "    </tr>\n",
       "    <tr>\n",
       "      <th>173</th>\n",
       "      <td>3</td>\n",
       "      <td>13.71</td>\n",
       "      <td>5.65</td>\n",
       "      <td>2.45</td>\n",
       "      <td>20.5</td>\n",
       "      <td>95</td>\n",
       "      <td>1.68</td>\n",
       "      <td>0.61</td>\n",
       "      <td>0.52</td>\n",
       "      <td>1.06</td>\n",
       "      <td>7.70</td>\n",
       "      <td>0.64</td>\n",
       "      <td>1.74</td>\n",
       "      <td>740</td>\n",
       "    </tr>\n",
       "    <tr>\n",
       "      <th>174</th>\n",
       "      <td>3</td>\n",
       "      <td>13.40</td>\n",
       "      <td>3.91</td>\n",
       "      <td>2.48</td>\n",
       "      <td>23.0</td>\n",
       "      <td>102</td>\n",
       "      <td>1.80</td>\n",
       "      <td>0.75</td>\n",
       "      <td>0.43</td>\n",
       "      <td>1.41</td>\n",
       "      <td>7.30</td>\n",
       "      <td>0.70</td>\n",
       "      <td>1.56</td>\n",
       "      <td>750</td>\n",
       "    </tr>\n",
       "    <tr>\n",
       "      <th>175</th>\n",
       "      <td>3</td>\n",
       "      <td>13.27</td>\n",
       "      <td>4.28</td>\n",
       "      <td>2.26</td>\n",
       "      <td>20.0</td>\n",
       "      <td>120</td>\n",
       "      <td>1.59</td>\n",
       "      <td>0.69</td>\n",
       "      <td>0.43</td>\n",
       "      <td>1.35</td>\n",
       "      <td>10.20</td>\n",
       "      <td>0.59</td>\n",
       "      <td>1.56</td>\n",
       "      <td>835</td>\n",
       "    </tr>\n",
       "    <tr>\n",
       "      <th>176</th>\n",
       "      <td>3</td>\n",
       "      <td>13.17</td>\n",
       "      <td>2.59</td>\n",
       "      <td>2.37</td>\n",
       "      <td>20.0</td>\n",
       "      <td>120</td>\n",
       "      <td>1.65</td>\n",
       "      <td>0.68</td>\n",
       "      <td>0.53</td>\n",
       "      <td>1.46</td>\n",
       "      <td>9.30</td>\n",
       "      <td>0.60</td>\n",
       "      <td>1.62</td>\n",
       "      <td>840</td>\n",
       "    </tr>\n",
       "    <tr>\n",
       "      <th>177</th>\n",
       "      <td>3</td>\n",
       "      <td>14.13</td>\n",
       "      <td>4.10</td>\n",
       "      <td>2.74</td>\n",
       "      <td>24.5</td>\n",
       "      <td>96</td>\n",
       "      <td>2.05</td>\n",
       "      <td>0.76</td>\n",
       "      <td>0.56</td>\n",
       "      <td>1.35</td>\n",
       "      <td>9.20</td>\n",
       "      <td>0.61</td>\n",
       "      <td>1.60</td>\n",
       "      <td>560</td>\n",
       "    </tr>\n",
       "  </tbody>\n",
       "</table>\n",
       "<p>178 rows × 14 columns</p>\n",
       "</div>"
      ],
      "text/plain": [
       "     0      1     2     3     4    5     6     7     8     9      10    11  \\\n",
       "0     1  14.23  1.71  2.43  15.6  127  2.80  3.06  0.28  2.29   5.64  1.04   \n",
       "1     1  13.20  1.78  2.14  11.2  100  2.65  2.76  0.26  1.28   4.38  1.05   \n",
       "2     1  13.16  2.36  2.67  18.6  101  2.80  3.24  0.30  2.81   5.68  1.03   \n",
       "3     1  14.37  1.95  2.50  16.8  113  3.85  3.49  0.24  2.18   7.80  0.86   \n",
       "4     1  13.24  2.59  2.87  21.0  118  2.80  2.69  0.39  1.82   4.32  1.04   \n",
       "..   ..    ...   ...   ...   ...  ...   ...   ...   ...   ...    ...   ...   \n",
       "173   3  13.71  5.65  2.45  20.5   95  1.68  0.61  0.52  1.06   7.70  0.64   \n",
       "174   3  13.40  3.91  2.48  23.0  102  1.80  0.75  0.43  1.41   7.30  0.70   \n",
       "175   3  13.27  4.28  2.26  20.0  120  1.59  0.69  0.43  1.35  10.20  0.59   \n",
       "176   3  13.17  2.59  2.37  20.0  120  1.65  0.68  0.53  1.46   9.30  0.60   \n",
       "177   3  14.13  4.10  2.74  24.5   96  2.05  0.76  0.56  1.35   9.20  0.61   \n",
       "\n",
       "       12    13  \n",
       "0    3.92  1065  \n",
       "1    3.40  1050  \n",
       "2    3.17  1185  \n",
       "3    3.45  1480  \n",
       "4    2.93   735  \n",
       "..    ...   ...  \n",
       "173  1.74   740  \n",
       "174  1.56   750  \n",
       "175  1.56   835  \n",
       "176  1.62   840  \n",
       "177  1.60   560  \n",
       "\n",
       "[178 rows x 14 columns]"
      ]
     },
     "execution_count": 91,
     "metadata": {},
     "output_type": "execute_result"
    }
   ],
   "source": [
    "import numpy as np\n",
    "import pandas as pd\n",
    "import random\n",
    "import scipy.stats as st\n",
    "import matplotlib.pyplot as plt\n",
    "from matplotlib.colors import ListedColormap\n",
    "\n",
    "df_wine = pd.read_csv(\"Wine.csv\", header = None)\n",
    "print('Understand the wine dataset first.')\n",
    "df_wine"
   ]
  },
  {
   "cell_type": "code",
   "execution_count": 92,
   "metadata": {},
   "outputs": [
    {
     "name": "stdout",
     "output_type": "stream",
     "text": [
      "Wine labels: [1 2 3]\n",
      "The numbers of 1-th label: 59 \n",
      "The numbers of 2-th label: 71 \n",
      "The numbers of 3-th label: 48 \n"
     ]
    }
   ],
   "source": [
    "from collections import Counter\n",
    "labels = df_wine.iloc[:, 0].values\n",
    "label_kinds = np.unique(labels)\n",
    "print(f'Wine labels: {label_kinds}')\n",
    "label_cnt = Counter(labels)\n",
    "for i in range(len(label_kinds)):\n",
    "    print(f'The numbers of {i + 1}-th label: {label_cnt[label_kinds[i]]} ')"
   ]
  },
  {
   "cell_type": "markdown",
   "metadata": {},
   "source": [
    "### Split the train and test data"
   ]
  },
  {
   "cell_type": "markdown",
   "metadata": {},
   "source": [
    "* 首先由前述可以得知3種labels的分布情形，因此能切分出三個變數分別都僅含其中一種label的資料。然後，照著PDF敘述先進行random shuffle，並從三個類別分別取出其中18個instances，利用np.concatenate就能獲得testing data，剩餘的資料則為training data。\n",
    "* 接著根據PDF敘述，把training data, testing data分別存成train.csv, test.csv進行繳交。\n",
    "* 注意到資料的第一個columns為label，而我的實作上要將其型別轉換為int32；而剩餘的columns則作為用來分類的13個特徵。\n",
    "* 最後印出training data和testing data的shape來確認資料切分是否正確。"
   ]
  },
  {
   "cell_type": "code",
   "execution_count": 93,
   "metadata": {},
   "outputs": [
    {
     "name": "stdout",
     "output_type": "stream",
     "text": [
      "Training set: (124, 13), Testing set: (54, 13)\n"
     ]
    }
   ],
   "source": [
    "X_wine = df_wine.iloc[:, range(0, 14)].values\n",
    "X_1, X_2, X_3 = X_wine[:59], X_wine[59:59+71], X_wine[59+71:]\n",
    "np.random.shuffle(X_1)\n",
    "np.random.shuffle(X_2)\n",
    "np.random.shuffle(X_3)\n",
    "\n",
    "X_test = np.concatenate((X_1[:18], X_2[:18], X_3[:18]))\n",
    "X_train = np.concatenate((X_1[18:], X_2[18:], X_3[18:]))\n",
    "\n",
    "pd.DataFrame(X_test).to_csv('test.csv', index=False, header=False)\n",
    "pd.DataFrame(X_train).to_csv('train.csv', index=False, header=False)\n",
    "\n",
    "# obtain label\n",
    "y_train = X_train[:, 0].astype(dtype=np.int32)\n",
    "y_test = X_test[:, 0].astype(dtype=np.int32)\n",
    "\n",
    "# remove the column of labels\n",
    "X_train = X_train[:, 1:] \n",
    "X_test = X_test[:, 1:]\n",
    "print(f'Training set: {X_train.shape}, Testing set: {X_test.shape}')"
   ]
  },
  {
   "cell_type": "markdown",
   "metadata": {},
   "source": [
    "### Calculate prior and likelihood\n",
    "* 根據training set的labels分布，除上training set的總數，可以計算出三者的prior。\n",
    "* 接著利用training set和labels的資訊，計算出個別的mean, variance，再使用scipy的norm去建立Gaussian distribution的關係，即可學習到likelihood的資訊。"
   ]
  },
  {
   "cell_type": "code",
   "execution_count": 94,
   "metadata": {},
   "outputs": [
    {
     "name": "stdout",
     "output_type": "stream",
     "text": [
      "Distribution of labels: [41, 53, 30]\n",
      "Prior probability: [0.33064516129032256, 0.4274193548387097, 0.24193548387096775]\n"
     ]
    }
   ],
   "source": [
    "# calculate the prior\n",
    "labels = list(Counter(y_train).values())\n",
    "print(f'Distribution of labels: {labels}')\n",
    "prior = [val / X_train.shape[0] for val in labels]\n",
    "print(f'Prior probability: {prior}')\n",
    "\n",
    "# calculate the likelihood\n",
    "def cal_likelihood(X, l):\n",
    "    likelihood_dis = [[], [], []]\n",
    "    for idx in range(X.shape[1]):\n",
    "        # print(X_train[:labels[0], idx].shape)\n",
    "        # label 1\n",
    "        mean_1 = np.mean(X[:l[0], idx])\n",
    "        std_1 = np.std(X[:l[0], idx])\n",
    "        # label 2\n",
    "        mean_2 = np.mean(X[l[0]:l[0]+l[1], idx])\n",
    "        std_2 = np.std(X[l[0]:l[0]+l[1], idx])\n",
    "        # label 3\n",
    "        mean_3 = np.mean(X[l[0]+l[1]:l[0]+l[1]+l[2], idx])\n",
    "        std_3 = np.std(X[l[0]+l[1]:l[0]+l[1]+l[2], idx])\n",
    "        likelihood_dis[0].append(st.norm(mean_1, std_1).pdf)\n",
    "        likelihood_dis[1].append(st.norm(mean_2, std_2).pdf)\n",
    "        likelihood_dis[2].append(st.norm(mean_3, std_3).pdf)\n",
    "    return likelihood_dis\n",
    "\n",
    "# obtain the likelihood distribution\n",
    "likelihood = cal_likelihood(X_train, labels)"
   ]
  },
  {
   "cell_type": "markdown",
   "metadata": {},
   "source": [
    "### Calculate posterior probability and predict\n",
    "* posterior計算的部分，首先我會先從testing set取出每個instance，並根據講義的公式計算\n",
    "$$P(\\theta|D)=\\mathop{\\arg\\max}\\limits_{\\theta}\\frac{P(D|\\theta)P(\\theta)}{P(D)}$$\n",
    "> $P(\\theta|D)$: posterior; $P(D|\\theta)$: likelihood; $P(\\theta)$: prior; $P(D)$: evidence\n",
    "* 由上式可以得知，$P(\\theta|D) \\propto P(D|\\theta)P(\\theta)$\n",
    "* 因此，計算posterior來分類如同下式\n",
    "$$P(\\theta|D)=P(d_1|\\theta)\\times P(d_2|\\theta)\\times...\\times P(d_n|\\theta) \\times P(\\theta)$$\n",
    "* 最後，去比較prediction的labels和ground truth，就可以計算出accuracy。"
   ]
  },
  {
   "cell_type": "code",
   "execution_count": 95,
   "metadata": {},
   "outputs": [
    {
     "name": "stdout",
     "output_type": "stream",
     "text": [
      "Accuracy: 100.0 %\n"
     ]
    }
   ],
   "source": [
    "'''\n",
    "How I obtain the posterior probability:\n",
    "    From testing set, I iterate the testing dataset first.\n",
    "    For each instance from testing set, I will calculate 3 posteriors.\n",
    "    First, multiply posterior by prior values.\n",
    "    Second, for each feature (totally 13 features), I multiply posterior to the likelihood.\n",
    "    (Note: I just use the likelihood value directly instead of integrate it)\n",
    "    Then, I take the argmax of these 3 posteriors to find the prediction label.\n",
    "    Finally, compare the prediction labels with ground truth labels to find the accuracy.\n",
    "'''\n",
    "prediction = []\n",
    "for ins in X_test:\n",
    "    posterior_arr = []\n",
    "    for i in range(3):\n",
    "        posterior = 1. * prior[i]\n",
    "        for idx in range(X_train.shape[1]):\n",
    "            test_val = ins[idx]\n",
    "            posterior *= likelihood[i][idx](test_val)\n",
    "        posterior_arr.append(posterior)\n",
    "    prediction.append(np.argmax(posterior_arr) + 1)\n",
    "\n",
    "acc_ori = 0\n",
    "for i in range(len(prediction)):\n",
    "    if prediction[i] == y_test[i]:\n",
    "        acc_ori += 1\n",
    "print(f'Accuracy: {acc_ori / len(prediction) * 100:.1f} %')\n"
   ]
  },
  {
   "cell_type": "markdown",
   "metadata": {},
   "source": [
    "### Visualized testing dataset by PCA in 2D and 3D\n",
    "* 利用sklearn.decomposition去畫出PCA的結果。\n",
    "* 我額外實作了plot_PCA的function來方便我作圖，此函數會用testing set的data、labels來畫圖，以及利用is_3d這個flag來方便我選擇要畫2D還是3D的圖。\n",
    "* 而我會於PCA function設定n_components=2來畫2D的圖，以及n_components=3來畫3D的圖\n"
   ]
  },
  {
   "cell_type": "code",
   "execution_count": 96,
   "metadata": {},
   "outputs": [
    {
     "data": {
      "image/png": "[encoded data removed]",
      "text/plain": [
       "<Figure size 432x432 with 1 Axes>"
      ]
     },
     "metadata": {
      "needs_background": "light"
     },
     "output_type": "display_data"
    }
   ],
   "source": [
    "from sklearn.decomposition import PCA\n",
    "\n",
    "def plot_PCA(X, y, is_3d=False):\n",
    "    # setup marker generator and color map\n",
    "    markers = ('s', 'x', 'o', '^', 'v')\n",
    "    colors = ('red', 'blue', 'lightgreen', 'gray', 'cyan')\n",
    "    cmap = ListedColormap(colors[:len(np.unique(y))])\n",
    "\n",
    "    # plot the decision surface\n",
    "    for idx, cl in enumerate(np.unique(y)):\n",
    "        if is_3d == True:\n",
    "            ax.scatter(X[y == cl, 0], \n",
    "                    X[y == cl, 1],\n",
    "                    X[y == cl, 2],\n",
    "                    alpha=0.8, \n",
    "                    c=colors[idx],\n",
    "                    marker=markers[idx], \n",
    "                    label=cl, \n",
    "                    edgecolor='black') \n",
    "        else:\n",
    "            plt.scatter(X[y == cl, 0], \n",
    "                        X[y == cl, 1],\n",
    "                        alpha=0.8, \n",
    "                        c=colors[idx],\n",
    "                        marker=markers[idx], \n",
    "                        label=cl, \n",
    "                        edgecolor='black')\n",
    "\n",
    "pca_func = PCA(n_components=2)\n",
    "X_test_pca = pca_func.fit_transform(X_test)\n",
    "# X_test_pca.shape\n",
    "fig = plt.figure(figsize=(6,6))\n",
    "plt.suptitle('Testing dataset visualized by PCA in 2D')\n",
    "# Plot the scatter graph to understand the PCA in 2D\n",
    "plot_PCA(X_test_pca, y_test, is_3d=False)\n",
    "plt.legend(loc='upper left')\n",
    "plt.savefig('pca_2d.png', dpi=300)\n",
    "\n"
   ]
  },
  {
   "cell_type": "code",
   "execution_count": 97,
   "metadata": {},
   "outputs": [
    {
     "data": {
      "image/png": "[encoded data removed]",
      "text/plain": [
       "<Figure size 432x432 with 1 Axes>"
      ]
     },
     "metadata": {
      "needs_background": "light"
     },
     "output_type": "display_data"
    }
   ],
   "source": [
    "pca3_func = PCA(n_components=3)\n",
    "X_test_pca3 = pca3_func.fit_transform(X_test)\n",
    "# X_test_pca3.shape\n",
    "fig2 = plt.figure(figsize=(6,6))\n",
    "plt.suptitle('Testing dataset visualized by PCA in 3D')\n",
    "ax = fig2.add_subplot(projection='3d')\n",
    "\n",
    "# Plot the scatter graph to understand the PCA in 3D   \n",
    "plot_PCA(X_test_pca3, y_test, is_3d=True)\n",
    "ax.set_xlabel('feature 1 (PCA)')\n",
    "ax.set_ylabel('feature 2 (PCA)')\n",
    "ax.set_zlabel('feature 3 (PCA)')\n",
    "plt.legend(loc='upper left')\n",
    "plt.tight_layout()\n",
    "plt.savefig('pca_3d.png', dpi=300)"
   ]
  },
  {
   "cell_type": "markdown",
   "metadata": {},
   "source": [
    "### Discussion about the effect of prior on posterior probability\n",
    "* 以下實驗將會嘗試改變training set的比例，也就能改變prior，來觀察是否影響到posterior以及accuracy。\n",
    "* 我嘗試將第1個label的個數及第3個label的個數減少，如此一來training set會變得很不均勻，如此一來prior也會被大幅改變。\n",
    "* 接著，類似前面的題目，利用不均勻的training set去計算likelihood。\n",
    "* 理論上如此不均勻的prior，代表著training data和testing data分布差距很大，應該導致MAP estimator會預測失準，但從第一輪的實驗來看，其accuracy似乎沒有明顯的落差。\n",
    "* 而上述現象，我認為可能是因為wine dataset具有13個features，進而導致likelihood對posterior影響較大，所以我嘗試減少likelihood取的feature數量(至4個)。\n",
    "* 減少至4個feature後，可以發現到最後的accuracy明顯有下降，也就能代表將likelihood對posterior的影響降低後，自然最後的posterior會比較容易受到prior影響，而不均勻的prior就會有預測不準的現象。"
   ]
  },
  {
   "cell_type": "code",
   "execution_count": 98,
   "metadata": {},
   "outputs": [
    {
     "name": "stdout",
     "output_type": "stream",
     "text": [
      "Distribution of labels: [11, 53, 20]\n",
      "Prior probability: [0.13095238095238096, 0.6309523809523809, 0.23809523809523808]\n"
     ]
    }
   ],
   "source": [
    "X_train_n_bal = np.concatenate((X_train[30:100,:], X_train[110:,:]))\n",
    "y_train_n_bal = np.concatenate((y_train[30:100], y_train[110:]))\n",
    "labels = list(Counter(y_train_n_bal).values())\n",
    "print(f'Distribution of labels: {labels}')\n",
    "prior = [val / X_train_n_bal.shape[0] for val in labels]\n",
    "print(f'Prior probability: {prior}')\n",
    "\n",
    "likelihood = cal_likelihood(X_train_n_bal, labels)\n",
    "# X_train.shape\n",
    "# X_train_n_bal.shape"
   ]
  },
  {
   "cell_type": "code",
   "execution_count": 99,
   "metadata": {},
   "outputs": [
    {
     "name": "stdout",
     "output_type": "stream",
     "text": [
      "Original accuracy: 100.0 %\n",
      "After changing prior, accuracy: 98.1 %\n"
     ]
    }
   ],
   "source": [
    "prediction = []\n",
    "for ins in X_test:\n",
    "    posterior_arr = []\n",
    "    for i in range(3):\n",
    "        posterior = 1. * prior[i]\n",
    "        for idx in range(13):\n",
    "            test_val = ins[idx]\n",
    "            posterior *= likelihood[i][idx](test_val)\n",
    "        posterior_arr.append(posterior)\n",
    "    prediction.append(np.argmax(posterior_arr) + 1)\n",
    "\n",
    "acc_test = 0\n",
    "for i in range(len(prediction)):\n",
    "    if prediction[i] == y_test[i]:\n",
    "        acc_test += 1\n",
    "print(f'Original accuracy: {acc_ori / len(prediction) * 100:.1f} %')\n",
    "print(f'After changing prior, accuracy: {acc_test / len(prediction) * 100:.1f} %')"
   ]
  },
  {
   "cell_type": "code",
   "execution_count": 100,
   "metadata": {},
   "outputs": [
    {
     "name": "stdout",
     "output_type": "stream",
     "text": [
      "Original accuracy: 100.0 %\n",
      "After changing prior and number of features, accuracy: 88.9 %\n"
     ]
    }
   ],
   "source": [
    "prediction = []\n",
    "for ins in X_test:\n",
    "    posterior_arr = []\n",
    "    for i in range(3):\n",
    "        posterior = 1. * prior[i]\n",
    "        for idx in range(4): # only use 4 features (likelihoods)\n",
    "            test_val = ins[idx]\n",
    "            posterior *= likelihood[i][idx](test_val)\n",
    "        posterior_arr.append(posterior)\n",
    "    prediction.append(np.argmax(posterior_arr) + 1)\n",
    "\n",
    "acc_test = 0\n",
    "for i in range(len(prediction)):\n",
    "    if prediction[i] == y_test[i]:\n",
    "        acc_test += 1\n",
    "print(f'Original accuracy: {acc_ori / len(prediction) * 100:.1f} %')\n",
    "print(f'After changing prior and number of features, accuracy: {acc_test / len(prediction) * 100:.1f} %')"
   ]
  }
 ],
 "metadata": {
  "interpreter": {
   "hash": "0df0d63b0e724747d10f425ec0e41ba513029a5f6a95fa443baa7f6d541f9b85"
  },
  "kernelspec": {
   "display_name": "Python 3.6.12 64-bit ('tensorflow': conda)",
   "language": "python",
   "name": "python3"
  },
  "language_info": {
   "codemirror_mode": {
    "name": "ipython",
    "version": 3
   },
   "file_extension": ".py",
   "mimetype": "text/x-python",
   "name": "python",
   "nbconvert_exporter": "python",
   "pygments_lexer": "ipython3",
   "version": "3.6.12"
  },
  "orig_nbformat": 4
 },
 "nbformat": 4,
 "nbformat_minor": 2
}
